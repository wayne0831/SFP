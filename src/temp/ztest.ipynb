{
 "cells": [
  {
   "cell_type": "code",
   "execution_count": 14,
   "id": "c0c4f2bd",
   "metadata": {},
   "outputs": [
    {
     "name": "stdout",
     "output_type": "stream",
     "text": [
      "2.1194288404250967 0.03405424161767093\n"
     ]
    }
   ],
   "source": [
    "from statsmodels.stats.proportion import proportions_ztest\n",
    "\n",
    "# X ~ (36, 36), Y ~ (36, 30)\n",
    "count = [36, 30]  # 성공 횟수\n",
    "nobs = [36, 34]   # 각 그룹의 전체 관측치 수\n",
    "\n",
    "# z-test for proportions\n",
    "stat, p_value = proportions_ztest(count, nobs, alternative='two-sided')\n",
    "\n",
    "print(stat, p_value)"
   ]
  },
  {
   "cell_type": "code",
   "execution_count": 16,
   "id": "0a5549a4",
   "metadata": {},
   "outputs": [
    {
     "name": "stdout",
     "output_type": "stream",
     "text": [
      "nan 1.0\n"
     ]
    }
   ],
   "source": [
    "from scipy.stats import fisher_exact\n",
    "\n",
    "# [[success_X, failure_X], [success_Y, failure_Y]]\n",
    "table = [[36, 0], \n",
    "         [36, 0]]\n",
    "\n",
    "\n",
    "stat, p_value = fisher_exact(table, alternative='two-sided')\n",
    "print(stat, p_value)"
   ]
  }
 ],
 "metadata": {
  "kernelspec": {
   "display_name": "base",
   "language": "python",
   "name": "python3"
  },
  "language_info": {
   "codemirror_mode": {
    "name": "ipython",
    "version": 3
   },
   "file_extension": ".py",
   "mimetype": "text/x-python",
   "name": "python",
   "nbconvert_exporter": "python",
   "pygments_lexer": "ipython3",
   "version": "3.12.4"
  }
 },
 "nbformat": 4,
 "nbformat_minor": 5
}
