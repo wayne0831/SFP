{
 "cells": [
  {
   "cell_type": "code",
   "execution_count": null,
   "id": "20bb0a6b",
   "metadata": {},
   "outputs": [
    {
     "name": "stdout",
     "output_type": "stream",
     "text": [
      "Collecting river\n",
      "  Downloading river-0.22.0-cp312-cp312-win_amd64.whl.metadata (9.0 kB)\n",
      "Requirement already satisfied: numpy>=1.23.0 in c:\\users\\aict\\anaconda3\\lib\\site-packages (from river) (1.26.0)\n",
      "Requirement already satisfied: pandas<3.0.0,>=2.2.3 in c:\\users\\aict\\anaconda3\\lib\\site-packages (from river) (2.2.3)\n",
      "Requirement already satisfied: scipy<2.0.0,>=1.14.1 in c:\\users\\aict\\anaconda3\\lib\\site-packages (from river) (1.15.2)\n",
      "Requirement already satisfied: python-dateutil>=2.8.2 in c:\\users\\aict\\anaconda3\\lib\\site-packages (from pandas<3.0.0,>=2.2.3->river) (2.9.0.post0)\n",
      "Requirement already satisfied: pytz>=2020.1 in c:\\users\\aict\\anaconda3\\lib\\site-packages (from pandas<3.0.0,>=2.2.3->river) (2025.1)\n",
      "Requirement already satisfied: tzdata>=2022.7 in c:\\users\\aict\\anaconda3\\lib\\site-packages (from pandas<3.0.0,>=2.2.3->river) (2025.1)\n",
      "Requirement already satisfied: six>=1.5 in c:\\users\\aict\\anaconda3\\lib\\site-packages (from python-dateutil>=2.8.2->pandas<3.0.0,>=2.2.3->river) (1.17.0)\n",
      "Downloading river-0.22.0-cp312-cp312-win_amd64.whl (2.2 MB)\n",
      "   ---------------------------------------- 0.0/2.2 MB ? eta -:--:--\n",
      "   ------------------- -------------------- 1.0/2.2 MB 64.6 MB/s eta 0:00:01\n",
      "   ------------------- -------------------- 1.0/2.2 MB 64.6 MB/s eta 0:00:01\n",
      "   ------------------- -------------------- 1.0/2.2 MB 64.6 MB/s eta 0:00:01\n",
      "   ------------------- -------------------- 1.0/2.2 MB 64.6 MB/s eta 0:00:01\n",
      "   ---------------------------------------  2.2/2.2 MB 9.8 MB/s eta 0:00:01\n",
      "   ---------------------------------------- 2.2/2.2 MB 8.6 MB/s eta 0:00:00\n",
      "Installing collected packages: river\n",
      "Successfully installed river-0.22.0\n"
     ]
    }
   ],
   "source": [
    "#!pip install river"
   ]
  },
  {
   "cell_type": "code",
   "execution_count": null,
   "id": "ef799e74",
   "metadata": {},
   "outputs": [],
   "source": [
    "#from river import stream, datasets\n",
    "\n",
    "from river.naive_bayes import GaussianNB\n",
    "from river.preprocessing import StandardScaler\n",
    "from river.drift.binary import DDM\n",
    "from river.metrics import Accuracy\n",
    "from river.datasets import synth"
   ]
  },
  {
   "cell_type": "code",
   "execution_count": null,
   "id": "0600268c",
   "metadata": {},
   "outputs": [
    {
     "name": "stdout",
     "output_type": "stream",
     "text": [
      "[712] Drift Detected! 모델 리셋\n",
      "[781] Drift Detected! 모델 리셋\n",
      "최종 정확도: Accuracy: 82.87%\n"
     ]
    }
   ],
   "source": [
    "# 1. 데이터 스트림 로딩 (Agrawal with concept drift)\n",
    "dataset = synth.Agrawal(classification_function=0, seed=42).take(1000)\n",
    "\n",
    "# 2. 모델 초기화 함수 정의\n",
    "def reset_ml_model():\n",
    "    return StandardScaler() | GaussianNB()\n",
    "\n",
    "ml_mdl = reset_ml_model()\n",
    "detector = DDM()\n",
    "metric = Accuracy()\n",
    "\n",
    "# 3. 온라인 학습 루프\n",
    "for i, (x, y) in enumerate(dataset):\n",
    "    y_pred = ml_mdl.predict_one(x)\n",
    "    is_correct = int(y_pred == y) if y_pred is not None else 1\n",
    "\n",
    "    # 드리프트 탐지\n",
    "    detector.update(is_correct)\n",
    "\n",
    "    if detector.drift_detected:\n",
    "        print(f\"[{i}] Drift Detected! 모델 리셋\")\n",
    "        ml_mdl = reset_ml_model()\n",
    "        detector = DDM()\n",
    "        ml_mdl.learn_one(x, y)\n",
    "        continue\n",
    "\n",
    "    # 예측 정확도 기록 및 모델 업데이트\n",
    "    metric.update(y, y_pred)\n",
    "    ml_mdl.learn_one(x, y)\n",
    "\n",
    "print(\"최종 정확도:\", metric)"
   ]
  },
  {
   "cell_type": "code",
   "execution_count": null,
   "id": "0eabfb72",
   "metadata": {},
   "outputs": [
    {
     "ename": "AttributeError",
     "evalue": "'DDM' object has no attribute 'change_detected'",
     "output_type": "error",
     "traceback": [
      "\u001b[1;31m---------------------------------------------------------------------------\u001b[0m",
      "\u001b[1;31mAttributeError\u001b[0m                            Traceback (most recent call last)",
      "Cell \u001b[1;32mIn[30], line 9\u001b[0m\n\u001b[0;32m      6\u001b[0m \u001b[38;5;66;03m# 드리프트 탐지\u001b[39;00m\n\u001b[0;32m      7\u001b[0m detector\u001b[38;5;241m.\u001b[39mupdate(is_correct)\n\u001b[1;32m----> 9\u001b[0m \u001b[38;5;28;01mif\u001b[39;00m detector\u001b[38;5;241m.\u001b[39mchange_detected:\n\u001b[0;32m     10\u001b[0m     \u001b[38;5;28mprint\u001b[39m(\u001b[38;5;124mf\u001b[39m\u001b[38;5;124m\"\u001b[39m\u001b[38;5;124m[\u001b[39m\u001b[38;5;132;01m{\u001b[39;00mi\u001b[38;5;132;01m}\u001b[39;00m\u001b[38;5;124m] Drift Detected! 모델 리셋\u001b[39m\u001b[38;5;124m\"\u001b[39m)\n\u001b[0;32m     11\u001b[0m     model \u001b[38;5;241m=\u001b[39m init_model()\n",
      "\u001b[1;31mAttributeError\u001b[0m: 'DDM' object has no attribute 'change_detected'"
     ]
    }
   ],
   "source": []
  }
 ],
 "metadata": {
  "kernelspec": {
   "display_name": "base",
   "language": "python",
   "name": "python3"
  },
  "language_info": {
   "codemirror_mode": {
    "name": "ipython",
    "version": 3
   },
   "file_extension": ".py",
   "mimetype": "text/x-python",
   "name": "python",
   "nbconvert_exporter": "python",
   "pygments_lexer": "ipython3",
   "version": "3.12.4"
  }
 },
 "nbformat": 4,
 "nbformat_minor": 5
}
