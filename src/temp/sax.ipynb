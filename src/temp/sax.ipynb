{
 "cells": [
  {
   "cell_type": "code",
   "execution_count": 57,
   "metadata": {},
   "outputs": [
    {
     "data": {
      "text/plain": [
       "array(['a', 'a', 'a', 'a', 'b', 'b', 'c', 'c', 'c', 'c'], dtype='<U1')"
      ]
     },
     "execution_count": 57,
     "metadata": {},
     "output_type": "execute_result"
    }
   ],
   "source": [
    "from sklearn.preprocessing import StandardScaler\n",
    "import numpy as np\n",
    "from pyts.approximation import SymbolicAggregateApproximation\n",
    "\n",
    "scl = StandardScaler()\n",
    "\n",
    "ts = np.array([0.1, 0.2, 0.5, 0.8, 1.2, 1.3, 1.7, 2.0, 2.2, 2.5])\n",
    "ts = ts.reshape(-1, 1)\n",
    "ts_norm = scl.fit_transform(ts).flatten()\n",
    "ts_norm\n",
    "\n",
    "\n",
    "# SAX 변환 (strategy='normal')\n",
    "sax = SymbolicAggregateApproximation(n_bins=3, strategy='normal')\n",
    "symb_list = sax.fit_transform([ts_norm])[0]\n",
    "\n",
    "symb_list"
   ]
  },
  {
   "cell_type": "code",
   "execution_count": 74,
   "metadata": {},
   "outputs": [
    {
     "data": {
      "text/plain": [
       "[1, 3, 5, 7, 8]"
      ]
     },
     "execution_count": 74,
     "metadata": {},
     "output_type": "execute_result"
    }
   ],
   "source": [
    "np.random.seed(42)\n",
    "\n",
    "x = 0.5 # 0 ~ 1 \n",
    "\n",
    "# 각 심볼의 인덱스를 저장할 딕셔너리\n",
    "symb_dict = {symb: np.where(symb_list == symb)[0] for symb in np.unique(symb_list)}\n",
    "\n",
    "\n",
    "# 각 심볼에서 x%만큼 랜덤 추출\n",
    "idx_list = []\n",
    "for key, val in symb_dict.items():\n",
    "    num_idx = int(len(val) * x)  # 최소 1개 이상 선택\n",
    "    idx_list.extend(np.random.choice(val, num_idx, replace=False))\n",
    "\n",
    "# 결과 출력\n",
    "idx_list"
   ]
  },
  {
   "cell_type": "code",
   "execution_count": 73,
   "metadata": {},
   "outputs": [
    {
     "data": {
      "text/plain": [
       "dict_items([('a', array([0, 1, 2, 3], dtype=int64)), ('b', array([4, 5], dtype=int64)), ('c', array([6, 7, 8, 9], dtype=int64))])"
      ]
     },
     "execution_count": 73,
     "metadata": {},
     "output_type": "execute_result"
    }
   ],
   "source": [
    "symb_dict.items()"
   ]
  }
 ],
 "metadata": {
  "kernelspec": {
   "display_name": "base",
   "language": "python",
   "name": "python3"
  },
  "language_info": {
   "codemirror_mode": {
    "name": "ipython",
    "version": 3
   },
   "file_extension": ".py",
   "mimetype": "text/x-python",
   "name": "python",
   "nbconvert_exporter": "python",
   "pygments_lexer": "ipython3",
   "version": "3.12.4"
  }
 },
 "nbformat": 4,
 "nbformat_minor": 2
}
